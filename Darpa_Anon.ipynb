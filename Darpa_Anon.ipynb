{
  "nbformat": 4,
  "nbformat_minor": 0,
  "metadata": {
    "colab": {
      "provenance": [],
      "machine_shape": "hm"
    },
    "kernelspec": {
      "name": "python3",
      "display_name": "Python 3"
    },
    "language_info": {
      "name": "python"
    },
    "gpuClass": "standard"
  },
  "cells": [
    {
      "cell_type": "code",
      "execution_count": 1,
      "metadata": {
        "id": "8rd41dawNKfg",
        "colab": {
          "base_uri": "https://localhost:8080/"
        },
        "outputId": "6107dabb-b580-44c4-eab9-336ebfb03fd3"
      },
      "outputs": [
        {
          "output_type": "stream",
          "name": "stdout",
          "text": [
            "Looking in indexes: https://pypi.org/simple, https://us-python.pkg.dev/colab-wheels/public/simple/\n",
            "Requirement already satisfied: yacryptopan in /usr/local/lib/python3.8/dist-packages (1.0.1)\n",
            "Requirement already satisfied: pycryptodome>=3.4 in /usr/local/lib/python3.8/dist-packages (from yacryptopan) (3.16.0)\n",
            "Looking in indexes: https://pypi.org/simple, https://us-python.pkg.dev/colab-wheels/public/simple/\n",
            "Requirement already satisfied: scapy in /usr/local/lib/python3.8/dist-packages (2.4.5)\n"
          ]
        }
      ],
      "source": [
        "!pip install yacryptopan\n",
        "!pip install scapy\n",
        "from scapy.all import *\n",
        "import random"
      ]
    },
    {
      "cell_type": "code",
      "source": [
        "!pip install yacryptopan\n",
        "from yacryptopan import CryptoPAn\n",
        "cp = CryptoPAn(b'32-char-str-for-AES-key-and-pad.')"
      ],
      "metadata": {
        "colab": {
          "base_uri": "https://localhost:8080/"
        },
        "id": "woqJcEsLvu7O",
        "outputId": "30095d9e-757a-41ce-8a99-9f2c763990d0"
      },
      "execution_count": 2,
      "outputs": [
        {
          "output_type": "stream",
          "name": "stdout",
          "text": [
            "Looking in indexes: https://pypi.org/simple, https://us-python.pkg.dev/colab-wheels/public/simple/\n",
            "Requirement already satisfied: yacryptopan in /usr/local/lib/python3.8/dist-packages (1.0.1)\n",
            "Requirement already satisfied: pycryptodome>=3.4 in /usr/local/lib/python3.8/dist-packages (from yacryptopan) (3.16.0)\n"
          ]
        }
      ]
    },
    {
      "cell_type": "code",
      "source": [
        "def has_ip(pkt):\n",
        "    if \"IP\" in pkt:\n",
        "      return 1\n",
        "    else:\n",
        "      return 0"
      ],
      "metadata": {
        "id": "bmdMJJTEltaK"
      },
      "execution_count": 3,
      "outputs": []
    },
    {
      "cell_type": "code",
      "source": [
        "a = rdpcap(\"/content/drive/MyDrive/ECS235A/inside.tcpdump\")"
      ],
      "metadata": {
        "id": "AOYK9L1cNQJ7"
      },
      "execution_count": 4,
      "outputs": []
    },
    {
      "cell_type": "code",
      "source": [
        "for packet in a:\n",
        "  if(has_ip(packet)):\n",
        "    source_ip = packet.getlayer(IP).src\n",
        "    destination_ip = packet.getlayer(IP).dst\n",
        "\n",
        "    if source_ip:\n",
        "      new_src = cp.anonymize(source_ip)\n",
        "      packet.getlayer(IP).src = str.encode(new_src)\n",
        "\n",
        "    if destination_ip:\n",
        "      new_dst = cp.anonymize(destination_ip)\n",
        "      packet.getlayer(IP).dst = str.encode(new_dst)"
      ],
      "metadata": {
        "id": "XDLe9spel1PL"
      },
      "execution_count": 5,
      "outputs": []
    },
    {
      "cell_type": "code",
      "source": [
        "wrpcap(\"outside-pref.tcpdump\", a)"
      ],
      "metadata": {
        "id": "86Qf-awxvzUs"
      },
      "execution_count": 19,
      "outputs": []
    },
    {
      "cell_type": "code",
      "source": [
        "for packet in a:\n",
        "  if(has_ip(packet)):\n",
        "    source_ip = packet.getlayer(IP).src\n",
        "    destination_ip = packet.getlayer(IP).dst\n",
        "\n",
        "    if source_ip:\n",
        "        rnd_src = \"\"\n",
        "        for j in range(4):\n",
        "          num = random.SystemRandom().randint(1, 254)\n",
        "          rnd_src += str(num)\n",
        "          if j != 3:\n",
        "            rnd_src += \".\"\n",
        "        packet.getlayer(IP).src = str.encode(rnd_src)\n",
        "\n",
        "    if destination_ip:\n",
        "        rnd_dest = \"\"\n",
        "        for k in range(4):\n",
        "          num = random.SystemRandom().randint(1, 254)\n",
        "          rnd_dest += str(num)\n",
        "          if k != 3:\n",
        "            rnd_dest += \".\"\n",
        "        packet.getlayer(IP).dst = str.encode(rnd_dest)"
      ],
      "metadata": {
        "id": "KIb_Kf0BvePH"
      },
      "execution_count": null,
      "outputs": []
    },
    {
      "cell_type": "code",
      "source": [
        "wrpcap(\"outside-rand.pcap\", a)"
      ],
      "metadata": {
        "id": "ew4cjVRgnE0j"
      },
      "execution_count": null,
      "outputs": []
    },
    {
      "cell_type": "code",
      "source": [
        "!cp outside-pref.tcpdump /content/drive/MyDrive/ECS235A/"
      ],
      "metadata": {
        "id": "Gx534QOIschT"
      },
      "execution_count": 20,
      "outputs": []
    },
    {
      "cell_type": "code",
      "source": [
        "def blackMarker(src, dest):\n",
        "  new_src = \"\"\n",
        "  new_dest = \"\"\n",
        "  src_split = src.split(\".\")\n",
        "  dest_split = dest.split(\".\")\n",
        "\n",
        "  for i in range(4):\n",
        "    new_src += len(src_split[i])*\"0\"\n",
        "    if i != 3:\n",
        "      new_src += \".\"\n",
        "\n",
        "  for i in range(4):\n",
        "    new_dest += len(dest_split[i])*\"0\"\n",
        "    if i != 3:\n",
        "      new_dest += \".\"\n",
        "\n",
        "  new_src = str.encode(new_src)\n",
        "  new_dest = str.encode(new_dest)\n",
        "  return new_src, new_dest"
      ],
      "metadata": {
        "id": "c8bpfJ_WyNdb"
      },
      "execution_count": 11,
      "outputs": []
    },
    {
      "cell_type": "code",
      "source": [
        "for packet in a:\n",
        "  if(has_ip(packet)):\n",
        "    source_ip = packet.getlayer(IP).src\n",
        "    destination_ip = packet.getlayer(IP).dst\n",
        "\n",
        "    if source_ip and destination_ip:\n",
        "      new_src, new_dest = blackMarker(source_ip, destination_ip)\n",
        "      packet.getlayer(IP).src = new_src\n",
        "      packet.getlayer(IP).dst = new_dest"
      ],
      "metadata": {
        "id": "bnB_U9lWjb0f"
      },
      "execution_count": 13,
      "outputs": []
    },
    {
      "cell_type": "code",
      "source": [
        "wrpcap(\"outside-black.pcap\", a)"
      ],
      "metadata": {
        "id": "UmLk_bnymMtp"
      },
      "execution_count": 14,
      "outputs": []
    },
    {
      "cell_type": "code",
      "source": [
        "import numpy as np\n",
        "def permutation(src, dest):\n",
        "  new_src = \"\"\n",
        "  new_dest = \"\"\n",
        "  src_split = src.split(\".\")\n",
        "  dest_split = dest.split(\".\")\n",
        "\n",
        "  new_src_array = np.random.permutation(src_split)\n",
        "  new_dest_array = np.random.permutation(dest_split)\n",
        "  \n",
        "  for i in range(4):\n",
        "    new_src += new_src_array[i]\n",
        "    if i != 3:\n",
        "      new_src += \".\"\n",
        "\n",
        "  for i in range(4):\n",
        "    new_dest += new_dest_array[i]\n",
        "    if i != 3:\n",
        "      new_dest += \".\"\n",
        "\n",
        "  new_src = str.encode(new_src)\n",
        "  new_dest = str.encode(new_dest)\n",
        "  return new_src, new_dest"
      ],
      "metadata": {
        "id": "visnT2Pamj3h"
      },
      "execution_count": null,
      "outputs": []
    },
    {
      "cell_type": "code",
      "source": [
        "for packet in a:\n",
        "  if(has_ip(packet)):\n",
        "    source_ip = packet.getlayer(IP).src\n",
        "    destination_ip = packet.getlayer(IP).dst\n",
        "\n",
        "    if source_ip and destination_ip:\n",
        "      new_src, new_dest = permutation(source_ip, destination_ip)\n",
        "      packet.getlayer(IP).src = new_src\n",
        "      packet.getlayer(IP).dst = new_dest"
      ],
      "metadata": {
        "id": "OD1vEP9Pm61U"
      },
      "execution_count": null,
      "outputs": []
    }
  ]
}